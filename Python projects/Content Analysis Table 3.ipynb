{
 "cells": [
  {
   "cell_type": "markdown",
   "id": "e6d198f4",
   "metadata": {},
   "source": [
    "#### Importing libraries that I might need"
   ]
  },
  {
   "cell_type": "code",
   "execution_count": 1,
   "id": "87366f43",
   "metadata": {},
   "outputs": [],
   "source": [
    "import pandas as pd\n",
    "import numpy as np"
   ]
  },
  {
   "cell_type": "code",
   "execution_count": 24,
   "id": "c0ae8360",
   "metadata": {},
   "outputs": [],
   "source": [
    "import matplotlib.pyplot as plt\n",
    "import seaborn as sn"
   ]
  },
  {
   "cell_type": "markdown",
   "id": "ddd752d7",
   "metadata": {},
   "source": [
    "#### Loading in the data"
   ]
  },
  {
   "cell_type": "code",
   "execution_count": 2,
   "id": "27939c76",
   "metadata": {},
   "outputs": [],
   "source": [
    "df = pd.read_excel(r\"C:\\Users\\Asus\\Desktop\\Копие на ФИЛМИ 1.3.xlsx\")"
   ]
  },
  {
   "cell_type": "markdown",
   "id": "2a9da339",
   "metadata": {},
   "source": [
    "### Getting a feel of the datatypes and columns so I can proceed to cleaning/transforming"
   ]
  },
  {
   "cell_type": "code",
   "execution_count": 21,
   "id": "20c16139",
   "metadata": {
    "scrolled": true
   },
   "outputs": [
    {
     "data": {
      "text/plain": [
       "Наименование                     object\n",
       "Година                   datetime64[ns]\n",
       "Рейтинг                         float64\n",
       "IMDb_rating                     float64\n",
       "Свалено                           int32\n",
       "Режисьор                         object\n",
       "Държава                          object\n",
       "Времетраене                       int64\n",
       "Жанр 1                           object\n",
       "Жанр 2                           object\n",
       "Жанр 3                           object\n",
       "Име                              object\n",
       "Метод                            object\n",
       "Настроение комедия              float64\n",
       "Настроение Ужаси                 object\n",
       "Близост до реалността            object\n",
       "Възрастова група                 object\n",
       "Тематика                         object\n",
       "Тематика 2                       object\n",
       "IMDB ключови думи                object\n",
       "dtype: object"
      ]
     },
     "execution_count": 21,
     "metadata": {},
     "output_type": "execute_result"
    }
   ],
   "source": [
    "df.dtypes.head(20)"
   ]
  },
  {
   "cell_type": "markdown",
   "id": "1cca6ec8",
   "metadata": {},
   "source": [
    "#### Dropping unnecessary columns"
   ]
  },
  {
   "cell_type": "markdown",
   "id": "9462de1b",
   "metadata": {},
   "source": [
    "#### I have used Excel for dropping the columns that are not needed. If I had to use pandas, I would have used the drop method."
   ]
  },
  {
   "cell_type": "markdown",
   "id": "d7011f7b",
   "metadata": {},
   "source": [
    "##### Converting DataTypes"
   ]
  },
  {
   "cell_type": "code",
   "execution_count": 5,
   "id": "916b5a9c",
   "metadata": {},
   "outputs": [],
   "source": [
    "df[\"Година\"] = pd.to_datetime(df[\"Година\"], format = \"%Y\")"
   ]
  },
  {
   "cell_type": "code",
   "execution_count": 6,
   "id": "77cf9966",
   "metadata": {},
   "outputs": [],
   "source": [
    "df[\"Свалено\"] = df[\"Свалено\"].astype(\"int\")"
   ]
  },
  {
   "cell_type": "markdown",
   "id": "1f34dbe4",
   "metadata": {},
   "source": [
    "##### Some data in the rating colums contains dashes which need to be cleaned/transformed to dots."
   ]
  },
  {
   "cell_type": "code",
   "execution_count": 7,
   "id": "3cb21775",
   "metadata": {},
   "outputs": [],
   "source": [
    "df[\"Рейтинг\"] = df[\"Рейтинг\"].astype(str)"
   ]
  },
  {
   "cell_type": "code",
   "execution_count": 8,
   "id": "20bd8567",
   "metadata": {},
   "outputs": [],
   "source": [
    "df[\"Рейтинг\"] = df[\"Рейтинг\"].str.replace(\"-\", \".\")"
   ]
  },
  {
   "cell_type": "code",
   "execution_count": 9,
   "id": "c0083e56",
   "metadata": {},
   "outputs": [],
   "source": [
    "df[\"Рейтинг\"] = df[\"Рейтинг\"].astype(\"float\")"
   ]
  },
  {
   "cell_type": "markdown",
   "id": "bb1a72d7",
   "metadata": {},
   "source": [
    "### adding an IMDb rating column for comparison with the Zamunda rating column. Convering Zamunda ratings from X/5 to X/10. Adding a new column that shows the difference between the two ratings"
   ]
  },
  {
   "cell_type": "code",
   "execution_count": 10,
   "id": "aeccaba8",
   "metadata": {},
   "outputs": [],
   "source": [
    "#df[\"ZamundaIMDb_rating\"] = (df[\"Рейтинг\"]*2)  "
   ]
  },
  {
   "cell_type": "code",
   "execution_count": null,
   "id": "8bf64aba",
   "metadata": {},
   "outputs": [],
   "source": [
    "df[\"Рейтинг\"] = df[\"Рейтинг\"]*2"
   ]
  },
  {
   "cell_type": "code",
   "execution_count": 11,
   "id": "22ec164c",
   "metadata": {},
   "outputs": [],
   "source": [
    "df[\"rating_diff\"] = df[\"Рейтинг\"] - df[\"IMDb_rating\"]"
   ]
  },
  {
   "cell_type": "markdown",
   "id": "e1b10bdc",
   "metadata": {},
   "source": [
    "### Getting some stats. Which are the most present countries?"
   ]
  },
  {
   "cell_type": "code",
   "execution_count": 12,
   "id": "5043bff5",
   "metadata": {},
   "outputs": [],
   "source": [
    "country_grp = df.groupby([\"Държава\"])"
   ]
  },
  {
   "cell_type": "code",
   "execution_count": 13,
   "id": "801ce8d8",
   "metadata": {},
   "outputs": [
    {
     "data": {
      "text/plain": [
       "САЩ                            67\n",
       "Франция                         7\n",
       "Великобритания                  5\n",
       "САЩ, Германия                   2\n",
       "Хонг Конг                       2\n",
       "САЩ, Великобритания             2\n",
       "Италия                          2\n",
       "Франция, Италия                 1\n",
       "Франция, Великобритания         1\n",
       "Южна Корея, Чехия               1\n",
       "Канада, Франция                 1\n",
       "Индонезия                       1\n",
       "Германия                        1\n",
       "Колумбия                        1\n",
       "Канада                          1\n",
       "Великобритания, Пуерто Рико     1\n",
       "Name: Държава, dtype: int64"
      ]
     },
     "execution_count": 13,
     "metadata": {},
     "output_type": "execute_result"
    }
   ],
   "source": [
    "df[\"Държава\"].value_counts()"
   ]
  },
  {
   "cell_type": "markdown",
   "id": "61edad76",
   "metadata": {},
   "source": [
    "#### Which genres are most present in USA movies?"
   ]
  },
  {
   "cell_type": "code",
   "execution_count": 14,
   "id": "cee2088c",
   "metadata": {},
   "outputs": [
    {
     "data": {
      "text/plain": [
       "Жанр 1\n",
       "Екшън           45\n",
       "Криминален      10\n",
       "Трилър           4\n",
       "Мистерия         2\n",
       "Приключенски     2\n",
       "Анимация         1\n",
       "Документален     1\n",
       "Романтичен       1\n",
       "Name: Жанр 1, dtype: int64"
      ]
     },
     "execution_count": 14,
     "metadata": {},
     "output_type": "execute_result"
    }
   ],
   "source": [
    "country_grp[\"Жанр 1\"].value_counts().loc[\"САЩ\"]"
   ]
  },
  {
   "cell_type": "code",
   "execution_count": 15,
   "id": "6307d40c",
   "metadata": {},
   "outputs": [
    {
     "data": {
      "text/plain": [
       "Жанр 2\n",
       "Драма           21\n",
       "Приключенски    13\n",
       "Трилър          11\n",
       "Криминален       6\n",
       "Еротичен         1\n",
       "Name: Жанр 2, dtype: int64"
      ]
     },
     "execution_count": 15,
     "metadata": {},
     "output_type": "execute_result"
    }
   ],
   "source": [
    "country_grp[\"Жанр 2\"].value_counts().loc[\"САЩ\"]"
   ]
  },
  {
   "cell_type": "code",
   "execution_count": 16,
   "id": "ed532050",
   "metadata": {},
   "outputs": [
    {
     "data": {
      "text/plain": [
       "Жанр 3\n",
       "Трилър          14\n",
       "Криминален       8\n",
       "Мистерия         3\n",
       "Приключенски     3\n",
       "Романтичен       2\n",
       "Семеен           2\n",
       "Военен           1\n",
       "Уестърн          1\n",
       "трилър           1\n",
       "Name: Жанр 3, dtype: int64"
      ]
     },
     "execution_count": 16,
     "metadata": {},
     "output_type": "execute_result"
    }
   ],
   "source": [
    "country_grp[\"Жанр 3\"].value_counts().loc[\"САЩ\"]"
   ]
  },
  {
   "cell_type": "markdown",
   "id": "086119af",
   "metadata": {},
   "source": [
    "#### Geting a better feel of the Zamunda ratings and the IMDb ones. Is there a difference?"
   ]
  },
  {
   "cell_type": "code",
   "execution_count": 17,
   "id": "3aa1263a",
   "metadata": {},
   "outputs": [
    {
     "data": {
      "text/plain": [
       "count    97.000000\n",
       "mean      8.826804\n",
       "std       0.766827\n",
       "min       5.400000\n",
       "25%       8.600000\n",
       "50%       9.000000\n",
       "75%       9.200000\n",
       "max       9.800000\n",
       "Name: ZamundaIMDb_rating, dtype: float64"
      ]
     },
     "execution_count": 17,
     "metadata": {},
     "output_type": "execute_result"
    }
   ],
   "source": [
    "df[\"ZamundaIMDb_rating\"].describe()"
   ]
  },
  {
   "cell_type": "code",
   "execution_count": 18,
   "id": "98aef93d",
   "metadata": {},
   "outputs": [
    {
     "data": {
      "text/plain": [
       "count    97.000000\n",
       "mean      6.225773\n",
       "std       1.114327\n",
       "min       2.900000\n",
       "25%       5.700000\n",
       "50%       6.400000\n",
       "75%       6.900000\n",
       "max       8.300000\n",
       "Name: IMDb_rating, dtype: float64"
      ]
     },
     "execution_count": 18,
     "metadata": {},
     "output_type": "execute_result"
    }
   ],
   "source": [
    "df[\"IMDb_rating\"].describe()"
   ]
  },
  {
   "cell_type": "markdown",
   "id": "0985f56a",
   "metadata": {},
   "source": [
    "#### Interest is measured by download counts. What are the interest indicators of our movie database?"
   ]
  },
  {
   "cell_type": "code",
   "execution_count": 20,
   "id": "c9b134a4",
   "metadata": {},
   "outputs": [
    {
     "data": {
      "text/plain": [
       "count         97.0\n",
       "mean      200277.0\n",
       "std       351059.0\n",
       "min        19495.0\n",
       "25%        50321.0\n",
       "50%       112635.0\n",
       "75%       212151.0\n",
       "max      3059095.0\n",
       "Name: Свалено, dtype: float64"
      ]
     },
     "execution_count": 20,
     "metadata": {},
     "output_type": "execute_result"
    }
   ],
   "source": [
    "df[\"Свалено\"].describe().round()"
   ]
  },
  {
   "cell_type": "code",
   "execution_count": null,
   "id": "ecd06dfc",
   "metadata": {},
   "outputs": [],
   "source": []
  }
 ],
 "metadata": {
  "kernelspec": {
   "display_name": "Python 3",
   "language": "python",
   "name": "python3"
  },
  "language_info": {
   "codemirror_mode": {
    "name": "ipython",
    "version": 3
   },
   "file_extension": ".py",
   "mimetype": "text/x-python",
   "name": "python",
   "nbconvert_exporter": "python",
   "pygments_lexer": "ipython3",
   "version": "3.8.8"
  }
 },
 "nbformat": 4,
 "nbformat_minor": 5
}
